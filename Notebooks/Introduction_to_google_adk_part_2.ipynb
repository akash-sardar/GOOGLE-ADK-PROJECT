{
 "cells": [
  {
   "cell_type": "markdown",
   "id": "73688b76",
   "metadata": {},
   "source": [
    "# Lesson 3 - Introduction to Google's ADK - Part II"
   ]
  },
  {
   "cell_type": "markdown",
   "id": "0bbddcbb",
   "metadata": {},
   "source": [
    "- how to create a team of Agents consisting of a root agent and 2 sub-agents (Part II)\n",
    "For each agent, you'll define a tool that allows the agent to interact with the Neo4j database we setup for this course. \n"
   ]
  },
  {
   "cell_type": "markdown",
   "id": "c6df5f0b",
   "metadata": {},
   "source": [
    "## 3.1. Setup"
   ]
  },
  {
   "cell_type": "code",
   "execution_count": 10,
   "id": "5da67fa8",
   "metadata": {},
   "outputs": [
    {
     "name": "stdout",
     "output_type": "stream",
     "text": [
      "Libraries imported\n"
     ]
    }
   ],
   "source": [
    "# Import necessary libraries\n",
    "\n",
    "# Python packages\n",
    "import os\n",
    "import sys\n",
    "sys.path.append('..')\n",
    "import warnings\n",
    "warnings.filterwarnings(\"ignore\")\n",
    "import logging\n",
    "logging.basicConfig(level = logging.CRITICAL)\n",
    "from typing import Optional, Dict, Any\n",
    "\n",
    "# Graph Database for flow\n",
    "from helpers.neo4j_for_adk import graphdb\n",
    "\n",
    "# Agent caller from helper\n",
    "from helpers.helper import make_agent_caller\n",
    "\n",
    "# Google ADK libraries\n",
    "from google.adk.agents import Agent\n",
    "from google.adk.models.lite_llm import LiteLlm\n",
    "from google.adk.sessions import InMemorySessionService\n",
    "from google.adk.runners import Runner\n",
    "from google.genai import types\n",
    "\n",
    "print(\"Libraries imported\")"
   ]
  },
  {
   "cell_type": "code",
   "execution_count": 11,
   "id": "2434121b",
   "metadata": {},
   "outputs": [
    {
     "name": "stdout",
     "output_type": "stream",
     "text": [
      "ModelResponse(id='chatcmpl-CE04JJhkylzmpd9cLDGEa3nZvsiog', created=1757452891, model='gpt-4o-2024-08-06', object='chat.completion', system_fingerprint='fp_f33640a400', choices=[Choices(finish_reason='stop', index=0, message=Message(content=\"Yes, I'm ready! How can I assist you today?\", role='assistant', tool_calls=None, function_call=None, provider_specific_fields={'refusal': None}, annotations=[]), provider_specific_fields={})], usage=Usage(completion_tokens=13, prompt_tokens=27, total_tokens=40, completion_tokens_details=CompletionTokensDetailsWrapper(accepted_prediction_tokens=0, audio_tokens=0, reasoning_tokens=0, rejected_prediction_tokens=0, text_tokens=None), prompt_tokens_details=PromptTokensDetailsWrapper(audio_tokens=0, cached_tokens=0, text_tokens=None, image_tokens=None)), service_tier='default')\n",
      "\n",
      "OpenAI is ready for use.\n"
     ]
    }
   ],
   "source": [
    "MODEL_GPT = \"openai/gpt-4o\"\n",
    "\n",
    "llm = LiteLlm(model=MODEL_GPT)\n",
    "\n",
    "# Test LLM with a direct call\n",
    "print(llm.llm_client.completion(model=llm.model, \n",
    "                                messages=[{\"role\": \"user\", \"content\": \"Are you ready?\"}], \n",
    "                                tools=[]))\n",
    "\n",
    "print(\"\\nOpenAI is ready for use.\")"
   ]
  },
  {
   "cell_type": "markdown",
   "id": "cdfe8852",
   "metadata": {},
   "source": [
    "## 3.2. Set up AgentCaller\n",
    "\n",
    "Already done in imports"
   ]
  },
  {
   "cell_type": "markdown",
   "id": "80e3c9ed",
   "metadata": {},
   "source": [
    "## 3.3. A Simple Multi-Agent Team \\- Delegation for greetings and Farewells"
   ]
  },
  {
   "cell_type": "markdown",
   "id": "88fffbfc",
   "metadata": {},
   "source": [
    "### 3.3.1 Define tools for Sub Agents"
   ]
  },
  {
   "cell_type": "code",
   "execution_count": 12,
   "id": "232d203f",
   "metadata": {},
   "outputs": [],
   "source": [
    "# Define the hello tool \n",
    "def say_hello(person_name: str) -> dict:\n",
    "    \"\"\"Formats a welcome message to a named person. \n",
    "\n",
    "    Args:\n",
    "        person_name (str): the name of the person saying hello\n",
    "\n",
    "    Returns:\n",
    "        dict: A dictionary containing the results of the query.\n",
    "              Includes a 'status' key ('success' or 'error').\n",
    "              If 'success', includes a 'query_result' key with an array of result rows.\n",
    "              If 'error', includes an 'error_message' key.\n",
    "    \"\"\"\n",
    "    return graphdb.send_query(\"RETURN 'Hello to you, ' + $person_name AS reply\",\n",
    "    {\n",
    "        \"person_name\": person_name\n",
    "    })"
   ]
  },
  {
   "cell_type": "code",
   "execution_count": 13,
   "id": "9d7cf068",
   "metadata": {},
   "outputs": [],
   "source": [
    "# Define the new goodbye tool\n",
    "def say_goodbye() -> dict:\n",
    "    \"\"\"Provides a simple farewell message to conclude the conversation.\"\"\"\n",
    "    return graphdb.send_query(\"RETURN 'Goodbye from Cypher!' as farewell\")\n"
   ]
  },
  {
   "cell_type": "markdown",
   "id": "be056115",
   "metadata": {},
   "source": [
    "### 3.3.2. Define the sub-agents (greeting and farewell)"
   ]
  },
  {
   "cell_type": "code",
   "execution_count": 14,
   "id": "b436051c",
   "metadata": {},
   "outputs": [
    {
     "name": "stdout",
     "output_type": "stream",
     "text": [
      "✅ Agent 'greeting_subagent_v1' created.\n"
     ]
    }
   ],
   "source": [
    "# --- Greeting Agent ---\n",
    "greeting_subagent = Agent(\n",
    "    model=llm,\n",
    "    name=\"greeting_subagent_v1\",\n",
    "    instruction=\"You are the Greeting Agent. Your ONLY task is to provide a friendly greeting to the user. \"\n",
    "                \"Use the 'say_hello' tool to generate the greeting. \"\n",
    "                \"If the user provides their name, make sure to pass it to the tool. \"\n",
    "                \"Do not engage in any other conversation or tasks.\",\n",
    "    description=\"Handles simple greetings and hellos using the 'say_hello' tool.\", # Crucial for delegation\n",
    "    tools=[say_hello],\n",
    ")\n",
    "print(f\"✅ Agent '{greeting_subagent.name}' created.\")\n"
   ]
  },
  {
   "cell_type": "code",
   "execution_count": 15,
   "id": "05ce591b",
   "metadata": {},
   "outputs": [
    {
     "name": "stdout",
     "output_type": "stream",
     "text": [
      "✅ Agent 'farewell_subagent_v1' created.\n"
     ]
    }
   ],
   "source": [
    "# --- Farewell Agent ---\n",
    "farewell_subagent = Agent(\n",
    "    # Can use the same or a different model\n",
    "    model=llm, # Sticking with GPT for this example\n",
    "    name=\"farewell_subagent_v1\",\n",
    "    instruction=\"You are the Farewell Agent. Your ONLY task is to provide a polite goodbye message. \"\n",
    "                \"Use the 'say_goodbye' tool when the user indicates they are leaving or ending the conversation \"\n",
    "                \"(e.g., using words like 'bye', 'goodbye', 'thanks bye', 'see you'). \"\n",
    "                \"Do not perform any other actions.\",\n",
    "    description=\"Handles simple farewells and goodbyes using the 'say_hello' tool.\", # Crucial for delegation\n",
    "    tools=[say_goodbye],\n",
    ")\n",
    "print(f\"✅ Agent '{farewell_subagent.name}' created.\")"
   ]
  },
  {
   "cell_type": "code",
   "execution_count": 16,
   "id": "b7eedc61",
   "metadata": {},
   "outputs": [
    {
     "name": "stdout",
     "output_type": "stream",
     "text": [
      "✅ Root Agent 'friendly_agent_team_v1' created with sub-agents: ['greeting_subagent_v1', 'farewell_subagent_v1']\n"
     ]
    }
   ],
   "source": [
    "root_agent = Agent(\n",
    "    name=\"friendly_agent_team_v1\", # Give it a new version name\n",
    "    model=llm,\n",
    "    description=\"The main coordinator agent. Delegates greetings/farewells to specialists.\",\n",
    "    instruction=\"\"\"You are the main Agent coordinating a team. Your primary responsibility is to be friendly.\n",
    " \n",
    "                You have specialized sub-agents: \n",
    "                1. 'greeting_agent': Handles simple greetings like 'Hi', 'Hello'. Delegate to it for these. \n",
    "                2. 'farewell_agent': Handles simple farewells like 'Bye', 'See you'. Delegate to it for these. \n",
    "\n",
    "                Analyze the user's query. If it's a greeting, delegate to 'greeting_agent'. \n",
    "                If it's a farewell, delegate to 'farewell_agent'. \n",
    "                \n",
    "                For anything else, respond appropriately or state you cannot handle it.\n",
    "                \"\"\",\n",
    "    tools=[], # No tools for the root agent\n",
    "    # Key change: Link the sub-agents here!\n",
    "    sub_agents=[greeting_subagent, farewell_subagent]\n",
    ")\n",
    "\n",
    "\n",
    "print(f\"✅ Root Agent '{root_agent.name}' created with sub-agents: {[sa.name for sa in root_agent.sub_agents]}\")\n"
   ]
  },
  {
   "cell_type": "markdown",
   "id": "55e019aa",
   "metadata": {},
   "source": [
    "### 3.3.4. Interact with the Agent Team"
   ]
  },
  {
   "cell_type": "code",
   "execution_count": 19,
   "id": "867db0b0",
   "metadata": {},
   "outputs": [
    {
     "name": "stdout",
     "output_type": "stream",
     "text": [
      "\n",
      ">>> User Query: Hello I'm ABK\n",
      "  [Event] Author: friendly_agent_team_v1, Type: Event, Final: False, Content: parts=[Part(\n",
      "  function_call=FunctionCall(\n",
      "    args={\n",
      "      'agent_name': 'greeting_subagent_v1'\n",
      "    },\n",
      "    id='call_O9DiGa7WQ50whRkaEBzHfoiG',\n",
      "    name='transfer_to_agent'\n",
      "  )\n",
      ")] role='model'\n",
      "  [Event] Author: friendly_agent_team_v1, Type: Event, Final: False, Content: parts=[Part(\n",
      "  function_response=FunctionResponse(\n",
      "    id='call_O9DiGa7WQ50whRkaEBzHfoiG',\n",
      "    name='transfer_to_agent',\n",
      "    response={\n",
      "      'result': None\n",
      "    }\n",
      "  )\n",
      ")] role='user'\n",
      "  [Event] Author: greeting_subagent_v1, Type: Event, Final: False, Content: parts=[Part(\n",
      "  function_call=FunctionCall(\n",
      "    args={\n",
      "      'person_name': 'ABK'\n",
      "    },\n",
      "    id='call_NLMW8qgiP8Ocgq2nHBhSmt56',\n",
      "    name='say_hello'\n",
      "  )\n",
      ")] role='model'\n",
      "  [Event] Author: greeting_subagent_v1, Type: Event, Final: False, Content: parts=[Part(\n",
      "  function_response=FunctionResponse(\n",
      "    id='call_NLMW8qgiP8Ocgq2nHBhSmt56',\n",
      "    name='say_hello',\n",
      "    response={\n",
      "      'query_result': [\n",
      "        {\n",
      "          'reply': 'Hello to you, ABK'\n",
      "        },\n",
      "      ],\n",
      "      'status': 'success'\n",
      "    }\n",
      "  )\n",
      ")] role='user'\n",
      "  [Event] Author: greeting_subagent_v1, Type: Event, Final: True, Content: parts=[Part(\n",
      "  text='Hello to you, ABK!'\n",
      ")] role='model'\n",
      "<<< Agent Response: Hello to you, ABK!\n",
      "\n",
      ">>> User Query: Thanks, bye!\n",
      "  [Event] Author: greeting_subagent_v1, Type: Event, Final: False, Content: parts=[Part(\n",
      "  function_call=FunctionCall(\n",
      "    args={\n",
      "      'agent_name': 'farewell_subagent_v1'\n",
      "    },\n",
      "    id='call_QeTTu8Cfn6kkBkoPa0OVz5W9',\n",
      "    name='transfer_to_agent'\n",
      "  )\n",
      ")] role='model'\n",
      "  [Event] Author: greeting_subagent_v1, Type: Event, Final: False, Content: parts=[Part(\n",
      "  function_response=FunctionResponse(\n",
      "    id='call_QeTTu8Cfn6kkBkoPa0OVz5W9',\n",
      "    name='transfer_to_agent',\n",
      "    response={\n",
      "      'result': None\n",
      "    }\n",
      "  )\n",
      ")] role='user'\n",
      "  [Event] Author: farewell_subagent_v1, Type: Event, Final: False, Content: parts=[Part(\n",
      "  function_call=FunctionCall(\n",
      "    args={},\n",
      "    id='call_4VCzN9Hg8GYKgbvRA1GYiUVL',\n",
      "    name='say_goodbye'\n",
      "  )\n",
      ")] role='model'\n",
      "  [Event] Author: farewell_subagent_v1, Type: Event, Final: False, Content: parts=[Part(\n",
      "  function_response=FunctionResponse(\n",
      "    id='call_4VCzN9Hg8GYKgbvRA1GYiUVL',\n",
      "    name='say_goodbye',\n",
      "    response={\n",
      "      'query_result': [\n",
      "        {\n",
      "          'farewell': 'Goodbye from Cypher!'\n",
      "        },\n",
      "      ],\n",
      "      'status': 'success'\n",
      "    }\n",
      "  )\n",
      ")] role='user'\n",
      "  [Event] Author: farewell_subagent_v1, Type: Event, Final: True, Content: parts=[Part(\n",
      "  text='Goodbye from Cypher!'\n",
      ")] role='model'\n",
      "<<< Agent Response: Goodbye from Cypher!\n"
     ]
    }
   ],
   "source": [
    "#from helpers.helper import make_agent_caller\n",
    "\n",
    "root_agent_caller = await make_agent_caller(root_agent)\n",
    "\n",
    "async def run_team_conversation():\n",
    "    await root_agent_caller.call(\"Hello I'm ABK\", True)\n",
    "\n",
    "    await root_agent_caller.call(\"Thanks, bye!\", True)\n",
    "\n",
    "# Execute the conversation using await\n",
    "await run_team_conversation()\n"
   ]
  },
  {
   "cell_type": "markdown",
   "id": "54b1b6c1",
   "metadata": {},
   "source": [
    "## 3.4. Adding Memory and Personalization with Session State"
   ]
  },
  {
   "cell_type": "markdown",
   "id": "b73ca276",
   "metadata": {},
   "source": [
    "**Optional Reading**\n",
    "\n",
    "Currently, agents can delegate tasks but cannot remember past interactions. To enable memory for context-aware behavior, ADK uses **Session State**—a Python dictionary linked to each user session.\n",
    "\n",
    "> `session.state` is tied to a specific user session identified by `APP_NAME`, `USER_ID`, `SESSION_ID`. It persists information *across multiple conversational turns* within that session. \n",
    "\n",
    "Session State lets agents and tools store and retrieve information across multiple turns. Tools access this state through the ToolContext object, while agents can automatically save their final responses using the output_key setting.\n",
    "\n",
    "1. **`ToolContext`** Tools can accept a `ToolContext` object giving access to the session state via `tool_context.state` allowing tools to save information *during* execution.  \n",
    "2. **`output_key`**  Agents can have `output_key=\"your_key\"` allowing ADK to save the agent's final textual response into `session.state[\"your_key\"]`.\n",
    "\n",
    "These constructs allow agents to remember past details, adapt their actions, and personalize responses during a session."
   ]
  },
  {
   "cell_type": "markdown",
   "id": "34ca10d1",
   "metadata": {},
   "source": [
    "### 3.4.1. Create State-Aware hello/goodbye Tools"
   ]
  },
  {
   "cell_type": "markdown",
   "id": "7166452e",
   "metadata": {},
   "source": [
    "You will create a new version of the hello/goodbye tools. The key feature is accepting `tool_context: ToolContext` \n",
    "which allows them to access `tool_context.state`. \n",
    "\n",
    "They will write to or read from the `user_name` state variable.\n",
    "\n",
    "\n",
    "* **Key Concept: `ToolContext`** This object is the bridge allowing your tool logic to interact with the session's context, including reading and writing state variables. ADK injects it automatically if defined as the last parameter of your tool function.\n",
    "\n",
    "\n",
    "* **Best Practice:** When reading from state, use `dictionary.get('key', default_value)` to handle cases where the key might not exist yet, ensuring your tool doesn't crash."
   ]
  },
  {
   "cell_type": "code",
   "execution_count": 20,
   "id": "17a36789",
   "metadata": {},
   "outputs": [],
   "source": [
    "from google.adk.tools.tool_context import ToolContext\n",
    "\n",
    "def say_hello_stateful(user_name:str, tool_context: ToolContext):\n",
    "    \"\"\"Says hello to the user, recording their name into state.\n",
    "    \n",
    "    Args:\n",
    "        user_name (str): The name of the user.\n",
    "    \"\"\"\n",
    "    tool_context.state[\"user_name\"] = user_name\n",
    "    print(\"\\ntool_context.state['user_name']:\",tool_context.state['user_name'])\n",
    "    return graphdb.send_query(\n",
    "        f\"RETURN 'Hello to you, ' + $user_name + '.' AS reply\",\n",
    "    {\n",
    "        \"user_name\": user_name\n",
    "    })\n"
   ]
  },
  {
   "cell_type": "code",
   "execution_count": 21,
   "id": "ea15d734",
   "metadata": {},
   "outputs": [
    {
     "name": "stdout",
     "output_type": "stream",
     "text": [
      "✅ State-aware 'say_hello_stateful' and 'say_goodbye_stateful' tools defined.\n"
     ]
    }
   ],
   "source": [
    "def say_goodbye_stateful(tool_context: ToolContext) -> dict:\n",
    "    \"\"\"Says goodbye to the user, reading their name from state.\"\"\"\n",
    "    user_name = tool_context.state.get(\"user_name\", \"stranger\")\n",
    "    print(\"\\ntool_context.state['user_name']:\", user_name)\n",
    "    return graphdb.send_query(\"RETURN 'Goodbye, ' + $user_name + ', nice to chat with you!' AS reply\",\n",
    "    {\n",
    "        \"user_name\": user_name\n",
    "    })\n",
    "\n",
    "\n",
    "print(\"✅ State-aware 'say_hello_stateful' and 'say_goodbye_stateful' tools defined.\")\n"
   ]
  },
  {
   "cell_type": "markdown",
   "id": "aec42a8e",
   "metadata": {},
   "source": [
    "### 3.4.2. Redefine Sub-Agents and Update Root Agent"
   ]
  },
  {
   "cell_type": "markdown",
   "id": "0ef7cc8f",
   "metadata": {},
   "source": [
    "To ensure this step is self-contained and builds correctly, you first redefine the `greeting_agent` and `farewell_agent` exactly as they were in Step 3.3\\. Then, you define the new root agent (`root_agent_stateful`):\n",
    "\n",
    "* It uses the new `say_hello_stateful` and `say_goodbye_stateful` tools.  \n",
    "* It includes the greeting and farewell sub-agents for delegation. "
   ]
  },
  {
   "cell_type": "code",
   "execution_count": null,
   "id": "24099c2a",
   "metadata": {},
   "outputs": [
    {
     "name": "stdout",
     "output_type": "stream",
     "text": [
      "✅ Agent 'greeting_agent_stateful_v1' redefined.\n"
     ]
    }
   ],
   "source": [
    "# define a stateful greeting agent. the only difference is that this agent will use the stateful say_hello_stateful tool\n",
    "greeting_agent_stateful = Agent(\n",
    "    model=llm,\n",
    "    name=\"greeting_agent_stateful_v1\",\n",
    "    instruction=\"You are the Greeting Agent. Your ONLY task is to provide a friendly greeting using the 'say_hello_stateful' tool. Do nothing else.\",\n",
    "    description=\"Handles simple greetings and hellos using the 'say_hello_stateful' tool.\",\n",
    "    tools=[say_hello_stateful],\n",
    ")\n",
    "print(f\"✅ Agent '{greeting_agent_stateful.name}' redefined.\")\n"
   ]
  },
  {
   "cell_type": "code",
   "execution_count": 23,
   "id": "2ec43f5e",
   "metadata": {},
   "outputs": [
    {
     "name": "stdout",
     "output_type": "stream",
     "text": [
      "✅ Agent 'farewell_agent_stateful_v1' redefined.\n"
     ]
    }
   ],
   "source": [
    "farewell_agent_stateful = Agent(\n",
    "    model=llm,\n",
    "    name=\"farewell_agent_stateful_v1\",\n",
    "    instruction=\"You are the Farewell Agent. Your ONLY task is to provide a polite goodbye message using the 'say_goodbye_stateful' tool. Do not perform any other actions.\",\n",
    "    description=\"Handles simple farewells and goodbyes using the 'say_goodbye_stateful' tool.\",\n",
    "    tools=[say_goodbye_stateful],\n",
    ")\n",
    "print(f\"✅ Agent '{farewell_agent_stateful.name}' redefined.\")"
   ]
  },
  {
   "cell_type": "code",
   "execution_count": 24,
   "id": "d1b731a4",
   "metadata": {},
   "outputs": [
    {
     "name": "stdout",
     "output_type": "stream",
     "text": [
      "✅ Root Agent 'friendly_team_stateful' created using agents with stateful tools.\n"
     ]
    }
   ],
   "source": [
    "root_agent_stateful = Agent(\n",
    "    name=\"friendly_team_stateful\", # New version name\n",
    "    model=llm,\n",
    "    description=\"The main coordinator agent. Delegates greetings/farewells to specialists.\",\n",
    "    instruction=\"\"\"You are the main Agent coordinating a team. Your primary responsibility is to be friendly.\n",
    "\n",
    "                You have specialized sub-agents: \n",
    "                1. 'greeting_agent_stateful': Handles simple greetings like 'Hi', 'Hello'. Delegate to it for these. \n",
    "                2. 'farewell_agent_stateful': Handles simple farewells like 'Bye', 'See you'. Delegate to it for these. \n",
    "\n",
    "                Analyze the user's query. If it's a greeting, delegate to 'greeting_agent_stateful'. If it's a farewell, delegate to 'farewell_agent_stateful'. \n",
    "                \n",
    "                For anything else, respond appropriately or state you cannot handle it.\n",
    "                \"\"\",\n",
    "        tools=[], # Still no tools for root\n",
    "        sub_agents=[greeting_agent_stateful, farewell_agent_stateful], # Include sub-agents\n",
    "    )\n",
    "\n",
    "print(f\"✅ Root Agent '{root_agent_stateful.name}' created using agents with stateful tools.\")\n"
   ]
  },
  {
   "cell_type": "markdown",
   "id": "22c821c7",
   "metadata": {},
   "source": [
    "### 3.4.3. Intereact and Test State Flow"
   ]
  },
  {
   "cell_type": "markdown",
   "id": "b3a936a3",
   "metadata": {},
   "source": [
    "Now, you can initialize a new `AgentCaller`. This time, you'll provide an initial state.\n",
    "\n",
    "Then you can execute a conversation designed to test the state interactions using the `root_agent_stateful` root agent."
   ]
  },
  {
   "cell_type": "code",
   "execution_count": 33,
   "id": "1cf3e8b6",
   "metadata": {},
   "outputs": [
    {
     "name": "stdout",
     "output_type": "stream",
     "text": [
      "Initial State: {}\n"
     ]
    }
   ],
   "source": [
    "root_stateful_caller = await make_agent_caller(root_agent_stateful)\n",
    "\n",
    "session = await root_stateful_caller.get_session()\n",
    "\n",
    "print(f\"Initial State: {session.state}\")"
   ]
  },
  {
   "cell_type": "code",
   "execution_count": 32,
   "id": "c841e41a",
   "metadata": {},
   "outputs": [
    {
     "name": "stdout",
     "output_type": "stream",
     "text": [
      "\n",
      ">>> User Query: Hello! I am Akash\n",
      "\n",
      "tool_context.state['user_name']: Akash\n",
      "<<< Agent Response: Hello to you, Akash.\n",
      "\n",
      ">>> User Query: Thanks, bye!\n",
      "\n",
      "tool_context.state['user_name']: Akash\n",
      "<<< Agent Response: Goodbye, Akash, nice to chat with you!\n",
      "\n",
      "Final State: {'user_name': 'Akash'}\n"
     ]
    }
   ],
   "source": [
    "async def run_stateful_conversation():\n",
    "    await root_stateful_caller.call(\"Hello! I am Akash\")\n",
    "\n",
    "    await root_stateful_caller.call(\"Thanks, bye!\")\n",
    "\n",
    "# Execute the conversation using await in an async context (like Colab/Jupyter)\n",
    "await run_stateful_conversation()\n",
    "\n",
    "session = await root_stateful_caller.get_session()\n",
    "\n",
    "print(f\"\\nFinal State: {session.state}\")"
   ]
  },
  {
   "cell_type": "markdown",
   "id": "72c01db4",
   "metadata": {},
   "source": [
    "## 3.5. An Interactive Conversation"
   ]
  },
  {
   "cell_type": "markdown",
   "id": "daa2de8a",
   "metadata": {},
   "source": [
    "Now, let's make this interactive so you can ask your own questions! Run the cell below. It will prompt you to enter your queries directly."
   ]
  },
  {
   "cell_type": "code",
   "execution_count": 34,
   "id": "01dabc4f",
   "metadata": {},
   "outputs": [
    {
     "name": "stdout",
     "output_type": "stream",
     "text": [
      "\n",
      ">>> User Query: Hi I am akash\n",
      "\n",
      "tool_context.state['user_name']: Akash\n",
      "<<< Agent Response: Hello to you, Akash.\n",
      "Response: Hello to you, Akash.\n",
      "\n",
      ">>> User Query: What are you doing ?\n",
      "<<< Agent Response: I'm here to greet you! How can I assist you today?\n",
      "Response: I'm here to greet you! How can I assist you today?\n",
      "\n",
      ">>> User Query: What is an MMO\n",
      "<<< Agent Response: An MMO stands for \"Massively Multiplayer Online\" game. It's a type of online video game that accommodates a large number of players simultaneously on the same server. Players can interact with each other in a virtual world, often working together or competing against each other. Popular MMOs include games like World of Warcraft and Final Fantasy XIV. These games typically offer expansive worlds, ongoing quests, and social features to enhance player experience.\n",
      "Response: An MMO stands for \"Massively Multiplayer Online\" game. It's a type of online video game that accommodates a large number of players simultaneously on the same server. Players can interact with each other in a virtual world, often working together or competing against each other. Popular MMOs include games like World of Warcraft and Final Fantasy XIV. These games typically offer expansive worlds, ongoing quests, and social features to enhance player experience.\n",
      "\n",
      ">>> User Query: Okay Bye\n",
      "\n",
      "tool_context.state['user_name']: Akash\n",
      "<<< Agent Response: Goodbye, Akash, nice to chat with you!\n",
      "Response: Goodbye, Akash, nice to chat with you!\n"
     ]
    }
   ],
   "source": [
    "async def run_interactive_conversation():\n",
    "    while True:\n",
    "        user_query = input(\"Ask me something (or type 'exit' to quit): \")\n",
    "        if user_query.lower() == 'exit':\n",
    "            break\n",
    "        response = await root_stateful_caller.call(user_query)\n",
    "        print(f\"Response: {response}\")\n",
    "\n",
    "# Execute the interactive conversation\n",
    "await run_interactive_conversation()"
   ]
  }
 ],
 "metadata": {
  "kernelspec": {
   "display_name": "llm_env",
   "language": "python",
   "name": "python3"
  },
  "language_info": {
   "codemirror_mode": {
    "name": "ipython",
    "version": 3
   },
   "file_extension": ".py",
   "mimetype": "text/x-python",
   "name": "python",
   "nbconvert_exporter": "python",
   "pygments_lexer": "ipython3",
   "version": "3.11.9"
  }
 },
 "nbformat": 4,
 "nbformat_minor": 5
}
