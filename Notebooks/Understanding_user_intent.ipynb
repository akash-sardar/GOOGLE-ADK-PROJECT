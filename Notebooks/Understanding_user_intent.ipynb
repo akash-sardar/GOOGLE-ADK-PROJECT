{
 "cells": [
  {
   "cell_type": "markdown",
   "id": "819bcce0",
   "metadata": {},
   "source": [
    "# Lesson 4 - Understanding User Intent"
   ]
  },
  {
   "cell_type": "markdown",
   "id": "7a86ccea",
   "metadata": {},
   "source": [
    "In this lesson, you will build the first agent of your multi-agent system, which will be the user intent agent.\n",
    "\n",
    "You'll learn:\n",
    "\n",
    "- how to give an agent a clear task\n",
    "- how to define tools that are appropriate for the task\n",
    "- how use state to save important information\n",
    "\n",
    "Along the way, you will get experience with basic human-in-the-loop interaction"
   ]
  },
  {
   "cell_type": "markdown",
   "id": "1f8d1db7",
   "metadata": {},
   "source": [
    "## 4.1. Agent Details"
   ]
  },
  {
   "cell_type": "markdown",
   "id": "3e9abf75",
   "metadata": {},
   "source": [
    "<img src=\"../Images/entire_solution.png\" width=\"500\">"
   ]
  },
  {
   "cell_type": "markdown",
   "id": "46dd3cd8",
   "metadata": {},
   "source": [
    "The user intent agent is a goal-oriented, conversational agent that helps the user ideate on the kind of graph to build.\n",
    "- Input: nothing\n",
    "- Output: `approved_user_goal`, a dictionary pairing a kind of graph with a description of the purpose of the graph.\n",
    "- Tools: `set_perceived_user_goal`, `approve_perceived_user_goal`"
   ]
  },
  {
   "cell_type": "markdown",
   "id": "618bb71d",
   "metadata": {},
   "source": [
    "**Note**: Each lesson will focus on one part of the multi-agent system (as shown in the above image). The end-to-end solution will be available in this [repo](https://github.com/neo4j-contrib/agentic-kg). If the repo is empty, it means that the project is still in progress."
   ]
  },
  {
   "cell_type": "markdown",
   "id": "c83c1f17",
   "metadata": {},
   "source": [
    "## 4.2. Setup"
   ]
  },
  {
   "cell_type": "markdown",
   "id": "009aae54",
   "metadata": {},
   "source": [
    "The usual import of needed libraries, loading of environment variables, and connection to Neo4j."
   ]
  },
  {
   "cell_type": "code",
   "execution_count": 15,
   "id": "5bfa694d",
   "metadata": {},
   "outputs": [
    {
     "name": "stdout",
     "output_type": "stream",
     "text": [
      "Libraries imported\n"
     ]
    }
   ],
   "source": [
    "# Import necessary libraries\n",
    "\n",
    "# Python packages\n",
    "import os\n",
    "import sys\n",
    "sys.path.append('..')\n",
    "import warnings\n",
    "warnings.filterwarnings(\"ignore\")\n",
    "import logging\n",
    "logging.basicConfig(level = logging.CRITICAL)\n",
    "from typing import Optional, Dict, Any\n",
    "\n",
    "# Graph Database for flow\n",
    "from helpers.neo4j_for_adk import tool_success, tool_error, graphdb\n",
    "\n",
    "\n",
    "# Agent caller from helper\n",
    "from helpers.helper import make_agent_caller\n",
    "\n",
    "# Google ADK libraries\n",
    "from google.adk.agents import Agent\n",
    "from google.adk.models.lite_llm import LiteLlm\n",
    "from google.adk.sessions import InMemorySessionService\n",
    "from google.adk.runners import Runner\n",
    "from google.genai import types\n",
    "from google.adk.tools import ToolContext\n",
    "\n",
    "print(\"Libraries imported\")"
   ]
  },
  {
   "cell_type": "code",
   "execution_count": 16,
   "id": "a730b121",
   "metadata": {},
   "outputs": [
    {
     "name": "stdout",
     "output_type": "stream",
     "text": [
      "ModelResponse(id='chatcmpl-CENJQels5iMChvbanUiImZs97lQRM', created=1757542240, model='gpt-4o-2024-08-06', object='chat.completion', system_fingerprint='fp_f33640a400', choices=[Choices(finish_reason='stop', index=0, message=Message(content=\"Yes, I'm ready! How can I assist you today?\", role='assistant', tool_calls=None, function_call=None, provider_specific_fields={'refusal': None}, annotations=[]), provider_specific_fields={})], usage=Usage(completion_tokens=13, prompt_tokens=27, total_tokens=40, completion_tokens_details=CompletionTokensDetailsWrapper(accepted_prediction_tokens=0, audio_tokens=0, reasoning_tokens=0, rejected_prediction_tokens=0, text_tokens=None), prompt_tokens_details=PromptTokensDetailsWrapper(audio_tokens=0, cached_tokens=0, text_tokens=None, image_tokens=None)), service_tier='default')\n",
      "\n",
      "OpenAI is ready for use.\n"
     ]
    }
   ],
   "source": [
    "MODEL_GPT = \"openai/gpt-4o\"\n",
    "\n",
    "llm = LiteLlm(model=MODEL_GPT)\n",
    "\n",
    "# Test LLM with a direct call\n",
    "print(llm.llm_client.completion(model=llm.model, \n",
    "                                messages=[{\"role\": \"user\", \"content\": \"Are you ready?\"}], \n",
    "                                tools=[]))\n",
    "\n",
    "print(\"\\nOpenAI is ready for use.\")"
   ]
  },
  {
   "cell_type": "markdown",
   "id": "040995b9",
   "metadata": {},
   "source": [
    "## 4.3. Define the User Intent Agent"
   ]
  },
  {
   "cell_type": "markdown",
   "id": "431fbeb5",
   "metadata": {},
   "source": [
    "### 4.3.1 Agent Instructions"
   ]
  },
  {
   "cell_type": "code",
   "execution_count": 17,
   "id": "c57216ea",
   "metadata": {},
   "outputs": [],
   "source": [
    "# define the role and goal for the user intent agent\n",
    "\n",
    "agent_role_and_goal = \"\"\"\n",
    "    You are an expert at knowledge graph use cases. \n",
    "    Your primary goal is to help the user come up with a knowledge graph use case.\n",
    "\"\"\""
   ]
  },
  {
   "cell_type": "code",
   "execution_count": 18,
   "id": "10bce481",
   "metadata": {},
   "outputs": [],
   "source": [
    "# give the agent some hints about what to say\n",
    "\n",
    "agent_conversational_hints = \"\"\"\n",
    "    If the user is unsure what to do, make some suggestions based on classic use cases like:\n",
    "    - social network involving friends, family, or professional relationships\n",
    "    - logistics network with suppliers, customers, and partners\n",
    "    - recommendation system with customers, products, and purchase patterns\n",
    "    - fraud detection over multiple accounts with suspicious patterns of transactions\n",
    "    - pop-culture graphs with movies, books, or music\n",
    "\"\"\""
   ]
  },
  {
   "cell_type": "code",
   "execution_count": 19,
   "id": "aeba5690",
   "metadata": {},
   "outputs": [],
   "source": [
    "# describe what the output should look like\n",
    "agent_output_definition = \"\"\"\n",
    "    A user goal has two components:\n",
    "    - kind_of_graph: at most 3 words describing the graph, for example \"social network\" or \"USA freight logistics\"\n",
    "    - description: a few sentences about the intention of the graph, for example \"A dynamic routing and delivery system for cargo.\" or \"Analysis of product dependencies and supplier alternatives.\"\n",
    "\"\"\""
   ]
  },
  {
   "cell_type": "code",
   "execution_count": 20,
   "id": "badfd58f",
   "metadata": {},
   "outputs": [],
   "source": [
    "# specify the steps the agent should follow\n",
    "agent_chain_of_thought_directions = \"\"\"\n",
    "    Think carefully and collaborate with the user:\n",
    "    1. Understand the user's goal, which is a kind_of_graph with description\n",
    "    2. Ask clarifying questions as needed\n",
    "    3. When you think you understand their goal, use the 'set_perceived_user_goal' tool to record your perception\n",
    "    4. Present the perceived user goal to the user for confirmation\n",
    "    5. If the user agrees, use the 'approve_perceived_user_goal' tool to approve the user goal. This will save the goal in state under the 'approved_user_goal' key.\n",
    "\"\"\"\n"
   ]
  },
  {
   "cell_type": "code",
   "execution_count": 21,
   "id": "fa02bc2d",
   "metadata": {},
   "outputs": [
    {
     "name": "stdout",
     "output_type": "stream",
     "text": [
      "\n",
      "\n",
      "    You are an expert at knowledge graph use cases. \n",
      "    Your primary goal is to help the user come up with a knowledge graph use case.\n",
      "\n",
      "\n",
      "    If the user is unsure what to do, make some suggestions based on classic use cases like:\n",
      "    - social network involving friends, family, or professional relationships\n",
      "    - logistics network with suppliers, customers, and partners\n",
      "    - recommendation system with customers, products, and purchase patterns\n",
      "    - fraud detection over multiple accounts with suspicious patterns of transactions\n",
      "    - pop-culture graphs with movies, books, or music\n",
      "\n",
      "\n",
      "    A user goal has two components:\n",
      "    - kind_of_graph: at most 3 words describing the graph, for example \"social network\" or \"USA freight logistics\"\n",
      "    - description: a few sentences about the intention of the graph, for example \"A dynamic routing and delivery system for cargo.\" or \"Analysis of product dependencies and supplier alternatives.\"\n",
      "\n",
      "\n",
      "    Think carefully and collaborate with the user:\n",
      "    1. Understand the user's goal, which is a kind_of_graph with description\n",
      "    2. Ask clarifying questions as needed\n",
      "    3. When you think you understand their goal, use the 'set_perceived_user_goal' tool to record your perception\n",
      "    4. Present the perceived user goal to the user for confirmation\n",
      "    5. If the user agrees, use the 'approve_perceived_user_goal' tool to approve the user goal. This will save the goal in state under the 'approved_user_goal' key.\n",
      "\n",
      "\n"
     ]
    }
   ],
   "source": [
    "# combine all the instruction components into one complete instruction...\n",
    "complete_agent_instruction = f\"\"\"\n",
    "{agent_role_and_goal}\n",
    "{agent_conversational_hints}\n",
    "{agent_output_definition}\n",
    "{agent_chain_of_thought_directions}\n",
    "\"\"\"\n",
    "\n",
    "print(complete_agent_instruction)"
   ]
  },
  {
   "cell_type": "markdown",
   "id": "cd008f14",
   "metadata": {},
   "source": [
    "### 4.3.2 Tool Definition"
   ]
  },
  {
   "cell_type": "code",
   "execution_count": 22,
   "id": "c29f68df",
   "metadata": {},
   "outputs": [],
   "source": [
    "# Tool: Set Percieved User Goal\n",
    "# to encourage collaboration with the user, the first tool only sets the perceived user goal\n",
    "\n",
    "PERCEIVED_USER_GOAL = \"perceived_user_goal\"\n",
    "\n",
    "def set_perceived_user_goal(kind_of_graph: str, graph_description: str, tool_context: ToolContext):\n",
    "    \"\"\"Sets the perceived user's goal, including the kind of graph and its description.\n",
    "    \n",
    "    Args:\n",
    "        kind_of_graph: 2-3 word definition of the kind of graph, for example \"recent US patents\"\n",
    "        graph_description: a single paragraph description of the graph, summarizing the user's intent\n",
    "    \"\"\"\n",
    "    user_goal_data = {\n",
    "        \"kind_of_graph\": kind_of_graph,\n",
    "        \"graph_description\": graph_description\n",
    "        }\n",
    "    tool_context.state[PERCEIVED_USER_GOAL] = user_goal_data\n",
    "    return tool_success(PERCEIVED_USER_GOAL, user_goal_data)\n",
    "\n"
   ]
  },
  {
   "cell_type": "code",
   "execution_count": 23,
   "id": "99d9423a",
   "metadata": {},
   "outputs": [],
   "source": [
    "# Tool : Approve the perceived user goal\n",
    "# approval from the user should trigger a call to this tool\n",
    "\n",
    "APPROVED_USER_GOAL = \"approved_user_goal\"\n",
    "\n",
    "def approve_perceived_user_goal(tool_context:ToolContext):\n",
    "    \"\"\"Upon approval from user, will record the perceived user goal as the approved user goal.\n",
    "    \n",
    "    Only call this tool if the user has explicitly approved the perceived user goal.\n",
    "    \"\"\"\n",
    "    # Trust, but verify. \n",
    "    # Require that the perceived goal was set before approving it. \n",
    "    # Notice the tool error helps the agent take    \n",
    "    if PERCEIVED_USER_GOAL not in tool_context.state:\n",
    "        return tool_error(\"perceived_user_goal not set. Set perceived user goal first, or ask clarifying questions if you are unsure\")\n",
    "    \n",
    "    tool_context.state[APPROVED_USER_GOAL] = tool_context.state[PERCEIVED_USER_GOAL]\n",
    "    return tool_success(APPROVED_USER_GOAL, tool_context.state[PERCEIVED_USER_GOAL])\n"
   ]
  },
  {
   "cell_type": "code",
   "execution_count": 24,
   "id": "d946c4c1",
   "metadata": {},
   "outputs": [],
   "source": [
    "# add the tools to a list\n",
    "user_intent_agent_tools = [set_perceived_user_goal, approve_perceived_user_goal]"
   ]
  },
  {
   "cell_type": "markdown",
   "id": "03a66634",
   "metadata": {},
   "source": [
    "### 4.3.3 Agent Definition"
   ]
  },
  {
   "cell_type": "code",
   "execution_count": 25,
   "id": "dbe024ab",
   "metadata": {},
   "outputs": [
    {
     "name": "stdout",
     "output_type": "stream",
     "text": [
      "Agent 'user_intent_agent_v1' created\n"
     ]
    }
   ],
   "source": [
    "# Construct the agent\n",
    "user_intent_agent = Agent(\n",
    "    name = \"user_intent_agent_v1\", # A unique versioned name\n",
    "    model = llm, # Defined earlier\n",
    "    description = \"Helps the user ideate on a knowledge graph use case.\", # used for delegation\n",
    "    instruction = complete_agent_instruction, # the complete instructions you composed earlier\n",
    "    tools = user_intent_agent_tools, # list of tools\n",
    ")\n",
    "\n",
    "print(f\"Agent '{user_intent_agent.name}' created\")"
   ]
  },
  {
   "cell_type": "markdown",
   "id": "b884129f",
   "metadata": {},
   "source": [
    "## 4.4. Interact with the Agent"
   ]
  },
  {
   "cell_type": "code",
   "execution_count": 26,
   "id": "1745502b",
   "metadata": {},
   "outputs": [],
   "source": [
    " # use a helper to create an agent execution environment\n",
    " user_intent_caller = await make_agent_caller(user_intent_agent)"
   ]
  },
  {
   "cell_type": "code",
   "execution_count": 27,
   "id": "d6c5968a",
   "metadata": {},
   "outputs": [
    {
     "name": "stdout",
     "output_type": "stream",
     "text": [
      "Session Start: {}\n",
      "\n",
      ">>> User Query: I'd like a bill of materials graph (BOM graph) which includes all levels from suppliers to finished product, \n",
      "    which can support root-cause analysis.\n",
      "<<< Agent Response: A Bill of Materials (BOM) graph focusing on entire supply chains from suppliers to finished products is an excellent use case. You want to include all levels and ensure it supports root-cause analysis. This typically requires mapping out components, sub-components, and hierarchy in manufacturing, identifying how parts are linked, and tracing suppliers and manufacturing processes.  \n",
      "\n",
      "Before confirming this as your goal, could I ask a few clarifying questions?\n",
      "1. Are there specific industries or types of products you're targeting?\n",
      "2. Do you want to include any historical data or focus on real-time updates?\n",
      "3. Would you like to integrate external data sources, such as market or economic trends, to aid in the analysis?\n",
      "4. Are there specific metrics or types of analysis you're interested in that could use this graph?\n",
      "\n",
      ">>> User Query: I'm concerned about possible manufacturing or supplier issues.\n",
      "<<< Agent Response: Thanks for clarifying. Here's how your Bill of Materials (BOM) graph would potentially work:\n",
      "\n",
      "### Kind of Graph\n",
      "**BOM Root-Cause Analysis**\n",
      "\n",
      "### Description\n",
      "The BOM graph will map out the entire supply chain, from suppliers to finished products, capturing all components, sub-components, and assembly processes. The primary focus is to identify and visualize potential manufacturing or supplier issues. By integrating historical and real-time data, the graph will support root-cause analysis, helping identify bottlenecks or disruptions within the supply chain. Additionally, external data sources may be integrated to provide insights into market trends or risks affecting suppliers or components to enhance decision-making and resilience.\n",
      "\n",
      "Does this align with your intentions for the BOM graph? Feel free to make any adjustments or confirm if we're on the right track.\n",
      "\n",
      ">>> User Query: Approve that goal\n",
      "  [Event] Author: user_intent_agent_v1, Type: Event, Final: False, Content: parts=[Part(\n",
      "  function_call=FunctionCall(\n",
      "    args={\n",
      "      'graph_description': 'The BOM graph will map out the entire supply chain, from suppliers to finished products, capturing all components, sub-components, and assembly processes. The primary focus is to identify and visualize potential manufacturing or supplier issues. By integrating historical and real-time data, the graph will support root-cause analysis, helping identify bottlenecks or disruptions within the supply chain. Additionally, external data sources may be integrated to provide insights into market trends or risks affecting suppliers or components to enhance decision-making and resilience.',\n",
      "      'kind_of_graph': 'BOM Root-Cause Analysis'\n",
      "    },\n",
      "    id='call_sjZ9FfxfSduCaMeXC42dxCG8',\n",
      "    name='set_perceived_user_goal'\n",
      "  )\n",
      "), Part(\n",
      "  function_call=FunctionCall(\n",
      "    args={},\n",
      "    id='call_jdJ9SKHNt5wsou76UvbGZnjv',\n",
      "    name='approve_perceived_user_goal'\n",
      "  )\n",
      ")] role='model'\n",
      "  [Event] Author: user_intent_agent_v1, Type: Event, Final: False, Content: parts=[Part(\n",
      "  function_response=FunctionResponse(\n",
      "    id='call_sjZ9FfxfSduCaMeXC42dxCG8',\n",
      "    name='set_perceived_user_goal',\n",
      "    response={\n",
      "      'perceived_user_goal': {\n",
      "        'graph_description': 'The BOM graph will map out the entire supply chain, from suppliers to finished products, capturing all components, sub-components, and assembly processes. The primary focus is to identify and visualize potential manufacturing or supplier issues. By integrating historical and real-time data, the graph will support root-cause analysis, helping identify bottlenecks or disruptions within the supply chain. Additionally, external data sources may be integrated to provide insights into market trends or risks affecting suppliers or components to enhance decision-making and resilience.',\n",
      "        'kind_of_graph': 'BOM Root-Cause Analysis'\n",
      "      },\n",
      "      'status': 'success'\n",
      "    }\n",
      "  )\n",
      "), Part(\n",
      "  function_response=FunctionResponse(\n",
      "    id='call_jdJ9SKHNt5wsou76UvbGZnjv',\n",
      "    name='approve_perceived_user_goal',\n",
      "    response={\n",
      "      'approved_user_goal': {\n",
      "        'graph_description': 'The BOM graph will map out the entire supply chain, from suppliers to finished products, capturing all components, sub-components, and assembly processes. The primary focus is to identify and visualize potential manufacturing or supplier issues. By integrating historical and real-time data, the graph will support root-cause analysis, helping identify bottlenecks or disruptions within the supply chain. Additionally, external data sources may be integrated to provide insights into market trends or risks affecting suppliers or components to enhance decision-making and resilience.',\n",
      "        'kind_of_graph': 'BOM Root-Cause Analysis'\n",
      "      },\n",
      "      'status': 'success'\n",
      "    }\n",
      "  )\n",
      ")] role='user'\n",
      "  [Event] Author: user_intent_agent_v1, Type: Event, Final: True, Content: parts=[Part(\n",
      "  text='The goal for your Bill of Materials (BOM) Root-Cause Analysis graph has been approved and recorded. This graph will help you map out and analyze entire supply chains, focusing on identifying and resolving potential manufacturing and supplier issues. If you need any further assistance in developing or implementing the graph, feel free to ask!'\n",
      ")] role='model'\n",
      "<<< Agent Response: The goal for your Bill of Materials (BOM) Root-Cause Analysis graph has been approved and recorded. This graph will help you map out and analyze entire supply chains, focusing on identifying and resolving potential manufacturing and supplier issues. If you need any further assistance in developing or implementing the graph, feel free to ask!\n"
     ]
    }
   ],
   "source": [
    "# Run the Initial Conversation\n",
    "\n",
    "session_start = await user_intent_caller.get_session()\n",
    "print(f\"Session Start: {session_start.state}\")\n",
    "\n",
    "# Async function to await for each conversation\n",
    "async def run_conversation():\n",
    "    # start things off by describing your goal\n",
    "    await user_intent_caller.call(\n",
    "        \"\"\"I'd like a bill of materials graph (BOM graph) which includes all levels from suppliers to finished product, \n",
    "    which can support root-cause analysis.\"\"\"\n",
    "    )\n",
    "\n",
    "    if PERCEIVED_USER_GOAL not in session_start.state:\n",
    "        # the LLM may have asked a clarifying question. Offer some more details\n",
    "        await user_intent_caller.call(\"\"\"I'm concerned about possible manufacturing or supplier issues.\"\"\")  \n",
    "    \n",
    "    # Presume approval\n",
    "    await user_intent_caller.call(\"Approve that goal\", True)\n",
    "\n",
    "\n",
    "# Run the conversation\n",
    "await run_conversation()\n",
    "\n",
    "session_end = await user_intent_caller.get_session()\n",
    "\n",
    "\n"
   ]
  },
  {
   "cell_type": "markdown",
   "id": "dd113ca8",
   "metadata": {},
   "source": [
    "Take a close look at the session state.\n",
    "\n",
    "- session state starts empty, as you'd expect since we did not initialize it\n",
    "- after the conversation, there are two values in session state: `perceived_user_goal` and `approved_user_goal`\n",
    "- this duplication is intentional, separating \"working memory\" from work specification\n",
    "- subsequent steps in the workflow should only use approved work specifications\n",
    "- in production, work specifications should be persisted to enable tracing and reproducibility"
   ]
  },
  {
   "cell_type": "code",
   "execution_count": 28,
   "id": "595ccec4",
   "metadata": {},
   "outputs": [
    {
     "data": {
      "text/plain": [
       "{}"
      ]
     },
     "execution_count": 28,
     "metadata": {},
     "output_type": "execute_result"
    }
   ],
   "source": [
    "session_start.state"
   ]
  },
  {
   "cell_type": "markdown",
   "id": "fa9fa7c5",
   "metadata": {},
   "source": [
    "## 4.5. Optional - Sequence diagram illustrating the workflow of  \"User Intent Agent\"  "
   ]
  },
  {
   "cell_type": "markdown",
   "id": "91498bb9",
   "metadata": {},
   "source": [
    "<img src=\"../Images/user_intent_diag.png\"  width=600> "
   ]
  }
 ],
 "metadata": {
  "kernelspec": {
   "display_name": "llm_env",
   "language": "python",
   "name": "python3"
  },
  "language_info": {
   "codemirror_mode": {
    "name": "ipython",
    "version": 3
   },
   "file_extension": ".py",
   "mimetype": "text/x-python",
   "name": "python",
   "nbconvert_exporter": "python",
   "pygments_lexer": "ipython3",
   "version": "3.11.9"
  }
 },
 "nbformat": 4,
 "nbformat_minor": 5
}
