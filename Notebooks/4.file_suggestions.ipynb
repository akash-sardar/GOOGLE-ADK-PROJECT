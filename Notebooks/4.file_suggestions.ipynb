{
 "cells": [
  {
   "cell_type": "markdown",
   "id": "5b496fe8",
   "metadata": {},
   "source": [
    "# Lesson 5 - File Suggestions"
   ]
  },
  {
   "cell_type": "markdown",
   "id": "b23dc015",
   "metadata": {},
   "source": [
    "In this lesson, you will design an agent that can read the user goal, then use tools to evaluate\n",
    "available files to suggest relevant data sources.\n",
    "\n",
    "You'll learn:\n",
    "- how memory helps coordinate agent tasks\n",
    "- how tools can be be used to access the environment\n",
    "- how to trust, but verify inside of tools"
   ]
  },
  {
   "cell_type": "markdown",
   "id": "9c07ec01",
   "metadata": {},
   "source": [
    "\n",
    "<img src=\"../Images/entire_solution.png\" width=\"500\">\n",
    "\n",
    "The File Suggestion agent is a tool-use agent that suggests files to use for import, based on the approved user goal from the previous lesson.\n",
    "\n",
    "\n",
    "- Input: `approved_user_goal`, a dictionary pairing a kind of graph with a description of the purpose of the graph.\n",
    "- Output: `approved_files`, a list of files that have been approved for import.\n",
    "- Tools: `get_approved_user_goal`, `list_import_files`, `sample_file`, `set_suggested_files`, `approve_suggested_files`"
   ]
  },
  {
   "cell_type": "markdown",
   "id": "68b5f33d",
   "metadata": {},
   "source": [
    "## 5.2. Setup"
   ]
  },
  {
   "cell_type": "markdown",
   "id": "d7f12957",
   "metadata": {},
   "source": [
    "The usual import of needed libraries, loading of environment variables, and connection to Neo4j."
   ]
  },
  {
   "cell_type": "code",
   "execution_count": 1,
   "id": "3567e4f9",
   "metadata": {},
   "outputs": [
    {
     "name": "stdout",
     "output_type": "stream",
     "text": [
      "Libraries imported\n"
     ]
    }
   ],
   "source": [
    "# Import necessary libraries\n",
    "\n",
    "# Python packages\n",
    "import os\n",
    "from pathlib import Path\n",
    "import sys\n",
    "sys.path.append('..')\n",
    "import warnings\n",
    "warnings.filterwarnings(\"ignore\")\n",
    "import logging\n",
    "logging.basicConfig(level = logging.CRITICAL)\n",
    "from typing import Optional, Dict, Any\n",
    "from itertools import islice\n",
    "\n",
    "# Graph Database for flow\n",
    "from helpers.neo4j_for_adk import tool_success, tool_error, graphdb\n",
    "\n",
    "\n",
    "# Agent caller from helper\n",
    "from helpers.helper import make_agent_caller\n",
    "\n",
    "# Google ADK libraries\n",
    "from google.adk.agents import Agent\n",
    "from google.adk.models.lite_llm import LiteLlm\n",
    "from google.adk.sessions import InMemorySessionService\n",
    "from google.adk.runners import Runner\n",
    "from google.genai import types\n",
    "from google.adk.tools import ToolContext\n",
    "\n",
    "print(\"Libraries imported\")"
   ]
  },
  {
   "cell_type": "code",
   "execution_count": 2,
   "id": "5be7faae",
   "metadata": {},
   "outputs": [
    {
     "name": "stdout",
     "output_type": "stream",
     "text": [
      "ModelResponse(id='chatcmpl-CEjrIJrgH8T8P2B34S7L9rLgRKQrh', created=1757628908, model='gpt-4o-2024-08-06', object='chat.completion', system_fingerprint='fp_159664a9b7', choices=[Choices(finish_reason='stop', index=0, message=Message(content=\"Yes, I'm ready! How can I assist you today?\", role='assistant', tool_calls=None, function_call=None, provider_specific_fields={'refusal': None}, annotations=[]), provider_specific_fields={})], usage=Usage(completion_tokens=13, prompt_tokens=27, total_tokens=40, completion_tokens_details=CompletionTokensDetailsWrapper(accepted_prediction_tokens=0, audio_tokens=0, reasoning_tokens=0, rejected_prediction_tokens=0, text_tokens=None), prompt_tokens_details=PromptTokensDetailsWrapper(audio_tokens=0, cached_tokens=0, text_tokens=None, image_tokens=None)), service_tier='default')\n",
      "\n",
      "OpenAI is ready.\n"
     ]
    }
   ],
   "source": [
    "# --- Define Model Constants for easier use ---\n",
    "MODEL_GPT_4O = \"openai/gpt-4o\"\n",
    "\n",
    "llm = LiteLlm(model=MODEL_GPT_4O)\n",
    "\n",
    "# Test LLM with a direct call\n",
    "print(llm.llm_client.completion(model=llm.model, messages=[{\"role\": \"user\", \"content\": \"Are you ready?\"}], tools=[]))\n",
    "\n",
    "print(\"\\nOpenAI is ready.\")"
   ]
  },
  {
   "cell_type": "markdown",
   "id": "ab883120",
   "metadata": {},
   "source": [
    "## 5.3. Define the File Suggestion Agent"
   ]
  },
  {
   "cell_type": "markdown",
   "id": "d821b154",
   "metadata": {},
   "source": [
    "### 5.3.1. Agent Instructions"
   ]
  },
  {
   "cell_type": "code",
   "execution_count": 3,
   "id": "3b2b18f8",
   "metadata": {},
   "outputs": [],
   "source": [
    "file_suggestion_agent_instruction = \"\"\"\n",
    "You are a constructive critic AI reviewing a list of files. Your goal is to suggest relevant files\n",
    "for constructing a knowledge graph\n",
    "\n",
    "**Task:**\n",
    "Review the file list for relevance to the kind of graph and description specified in the approved user goal. \n",
    "\n",
    "For any file that you're not sure about, use the 'sample_file' tool to get \n",
    "a better understanding of the file contents.\n",
    "\n",
    "Only consider structured data files like CSV or JSON.\n",
    "\n",
    "Prepare for the task:\n",
    "- use the 'get_approved_user_goal' tool to get the approved user goal\n",
    "\n",
    "Think carefully, repeating these steps until finished:\n",
    "1. list available files using the 'list_available_files' tool\n",
    "2. evaluate the relevance of each file, then record the list of suggested files using the 'set_suggested_files' tool\n",
    "3. use the 'get_suggested_files' tool to get the list of suggested files\n",
    "4. ask the user to approve the set of suggested files\n",
    "5. If the user has feedback, go back to step 1 with that feedback in mind\n",
    "6. If approved, use the 'approve_suggested_files' tool to record the approval\n",
    "\"\"\""
   ]
  },
  {
   "cell_type": "markdown",
   "id": "2fb5123f",
   "metadata": {},
   "source": [
    "### 5.3.2 Tool Definitions"
   ]
  },
  {
   "cell_type": "code",
   "execution_count": 4,
   "id": "f9af13eb",
   "metadata": {},
   "outputs": [],
   "source": [
    "# import tools defined in previous lesson\n",
    "from helpers.tools import get_approved_user_goal\n",
    "from helpers.helper import get_neo4j_import_dir"
   ]
  },
  {
   "cell_type": "markdown",
   "id": "fc5dcea1",
   "metadata": {},
   "source": [
    "**Note:** `neo4j` database has a directory called `import` where you can place `csv` files that you intend to import into your Neo4j database. `get_neo4j_import_dir` represents the path to the directory that is in-sync with the `import` directory of the Neo4j database (running in a sidecar container). This directory has the csv files that the agent will sample and the select the suggested files. \n",
    "\n",
    "<div style=\"background-color:#fff6ff; padding:13px; border-width:3px; border-color:#efe6ef; border-style:solid; border-radius:6px\">\n",
    "<p> 💻 &nbsp; <b>To access the <code>csv</code> files :</b> 1) click on the <em>\"File\"</em> option on the top menu of the notebook and then 2) click on <em>\"Open\"</em>. Click on the home directory (small folder icon), you will find the csv files inside the <code>data</code> folder.\n",
    "\n",
    "</div>"
   ]
  },
  {
   "cell_type": "code",
   "execution_count": 5,
   "id": "7cc908af",
   "metadata": {},
   "outputs": [],
   "source": [
    "# Tool: List Import files\n",
    "\n",
    "ALL_AVAILABLE_FILES = \"all_available_files\"\n",
    "\n",
    "def list_available_files(tool_context: ToolContext)-> dict:\n",
    "    f\"\"\"\n",
    "        Lists files available for knowledge graph construction.\n",
    "        All files are realtive to the import directory\n",
    "\n",
    "        Returns:\n",
    "            dict: A dictionary containing metadata about the content.\n",
    "                    Includes a 'status' key ('success or 'error').\n",
    "                    If 'success', includes a {ALL_AVAILABLE_FILES} key with list of file names.\n",
    "                    if 'error', includes an 'error_message' key.\n",
    "                    The 'error_message' may have the instructions about how to handle the error\n",
    "    \"\"\"\n",
    "    # get the import dir using the helper function\n",
    "    import_dir = Path(get_neo4j_import_dir())\n",
    "\n",
    "    # get a list of relative file names, so files must be rooted at the import dir\n",
    "    file_names = [\n",
    "        str(x.relative_to(import_dir))\n",
    "        for x in import_dir.rglob(\"*\")\n",
    "        if x.is_file()\n",
    "    ]\n",
    "\n",
    "    # save the list to state so we can inspect it later\n",
    "    tool_context.state[ALL_AVAILABLE_FILES] = file_names\n",
    "\n",
    "    return tool_success(ALL_AVAILABLE_FILES, file_names)\n",
    "    "
   ]
  },
  {
   "cell_type": "code",
   "execution_count": 6,
   "id": "8f63d31f",
   "metadata": {},
   "outputs": [],
   "source": [
    "# Tool : Sample file\n",
    "def sample_file(file_path: str, tool_context: ToolContext)-> dict:\n",
    "    \"\"\"Samples a file by reading it's content as text.\n",
    "    Treats any file as text and reads up to a maximum of 100 lines.\n",
    "\n",
    "    Args:\n",
    "      file_path: file to sample, relative to the import directory\n",
    "      \n",
    "    Returns:\n",
    "        dict: A dictionary containing metadata about the content,\n",
    "            along with a sampling of the file.\n",
    "            Includes a 'status' key ('success' or 'error').\n",
    "            If 'success', includes a 'content' key with textual file content.\n",
    "            If 'error', includes an 'error_message' key.\n",
    "            The 'error_message' may have instructions about how to handle the error.\n",
    "    \"\"\"\n",
    "    # Trust, but verify. The agent may invent absolute file paths.\n",
    "    if Path(file_path).is_absolute():\n",
    "        return tool_error(\"File Path must be realtive to the import directory\")\n",
    "    \n",
    "    import_dir = Path(get_neo4j_import_dir())\n",
    "\n",
    "    # create the full path by extending from the import_dir\n",
    "    full_path_to_file = import_dir/file_path\n",
    "\n",
    "    # of course, _that_ may not exist\n",
    "    if not full_path_to_file.exists():\n",
    "        return tool_error(\"File path does not exist in the import directory\")\n",
    "    \n",
    "    try:\n",
    "        # treat all the files as text\n",
    "        with open(full_path_to_file, 'r', encoding='utf-8') as file:\n",
    "            # Read upto 100 lines\n",
    "            lines = list(islice(file,100))\n",
    "            content = ''.join(lines)\n",
    "            return tool_success(\"content\", content)\n",
    "    except Exception as e:\n",
    "        return tool_error(f\"Error reading or processing files {file_path}: {e}\")\n"
   ]
  },
  {
   "cell_type": "code",
   "execution_count": 7,
   "id": "1b9d7624",
   "metadata": {},
   "outputs": [],
   "source": [
    "# Tool: Set/Get suggested files\n",
    "SUGGESTED_FILES = \"suggested_files\"\n",
    "\n",
    "def set_suggested_files(suggest_files:list[str], tool_context: ToolContext)-> Dict[str, Any]:\n",
    "    \"\"\"Set the suggested files to be used for data import.\n",
    "\n",
    "    Args:\n",
    "        suggest_files (List[str]): List of file paths to suggest\n",
    "\n",
    "    Returns:\n",
    "        Dict[str, Any]: A dictionary containing metadata about the content.\n",
    "                Includes a 'status' key ('success' or 'error').\n",
    "                If 'success', includes a {SUGGESTED_FILES} key with list of file names.\n",
    "                If 'error', includes an 'error_message' key.\n",
    "                The 'error_message' may have instructions about how to handle the error.\n",
    "    \"\"\"   \n",
    "    tool_context.state[SUGGESTED_FILES] = suggest_files\n",
    "    return tool_success(SUGGESTED_FILES, suggest_files)\n",
    "\n",
    "# helps encourage the LLM to first set the suggested files.\n",
    "# This is an important strategy for maintaining consistency through defined values\n",
    "def get_suggested_files(tool_context: ToolContext)-> Dict[str, Any]:\n",
    "    \"\"\"Get the files to be used for data import.\n",
    "\n",
    "    Returns:\n",
    "        Dict[str, Any]: A dictionary containing metadata about the content.\n",
    "                Includes a 'status' key ('success' or 'error').\n",
    "                If 'success', includes a {SUGGESTED_FILES} key with list of file names.\n",
    "                If 'error', includes an 'error_message' key.\n",
    "    \"\"\"    \n",
    "    return tool_success(SUGGESTED_FILES, tool_context.state[SUGGESTED_FILES])"
   ]
  },
  {
   "cell_type": "code",
   "execution_count": 8,
   "id": "588dff2b",
   "metadata": {},
   "outputs": [],
   "source": [
    "# Tool: Approve Suggsted Files\n",
    "# Just like the previous lesson, you'll define a tool which\n",
    "# accepts no arguments and can sanity check before approving.\n",
    "APPROVED_FILES = \"approved_files\"\n",
    "\n",
    "def approve_suggested_files(tool_context:ToolContext)-> Dict[str, Any]:\n",
    "    \"\"\"Approves the {SUGGESTED_FILES} in state for further processing as {APPROVED_FILES}.\n",
    "    \n",
    "    If {SUGGESTED_FILES} is not in state, return an error.\n",
    "    \"\"\"\n",
    "    if SUGGESTED_FILES not in tool_context.state:\n",
    "        return tool_error(\"Current files have not been set. Take no action other than to inform user\")\n",
    "    \n",
    "    tool_context.state[APPROVED_FILES] = tool_context.state[SUGGESTED_FILES]\n",
    "    return tool_success(APPROVED_FILES, tool_context.state[APPROVED_FILES])\n"
   ]
  },
  {
   "cell_type": "code",
   "execution_count": 9,
   "id": "a599285f",
   "metadata": {},
   "outputs": [],
   "source": [
    "# List of tools for the file suggestion agent\n",
    "file_suggestion_agent_tools = [get_approved_user_goal, list_available_files, sample_file, \n",
    "    set_suggested_files, get_suggested_files,\n",
    "    approve_suggested_files\n",
    "]"
   ]
  },
  {
   "cell_type": "markdown",
   "id": "78b32575",
   "metadata": {},
   "source": [
    "### 5.3.3. Agent Definition"
   ]
  },
  {
   "cell_type": "code",
   "execution_count": 10,
   "id": "1566d90d",
   "metadata": {},
   "outputs": [
    {
     "name": "stdout",
     "output_type": "stream",
     "text": [
      "Agent 'file_suggestion_agent_v1' created.\n"
     ]
    }
   ],
   "source": [
    "# Finally, construct the agent\n",
    "\n",
    "file_suggestion_agent = Agent(\n",
    "    name=\"file_suggestion_agent_v1\",\n",
    "    model=llm, # defined earlier in a variable\n",
    "    description=\"Helps the user select files to import.\",\n",
    "    instruction=file_suggestion_agent_instruction,\n",
    "    tools=file_suggestion_agent_tools,\n",
    ")\n",
    "\n",
    "print(f\"Agent '{file_suggestion_agent.name}' created.\")"
   ]
  },
  {
   "cell_type": "markdown",
   "id": "56ac1bcb",
   "metadata": {},
   "source": [
    "## 5.4. Interact with the Agent"
   ]
  },
  {
   "cell_type": "code",
   "execution_count": 11,
   "id": "b74ed00d",
   "metadata": {},
   "outputs": [],
   "source": [
    "file_suggestion_caller = await make_agent_caller(file_suggestion_agent, {\n",
    "    \"approved_user_goal\": {\n",
    "        \"kind_of_graph\": \"supply chain analysis\",\n",
    "        \"description\": \"A multi-level bill of materials for manufactured products, useful for root cause analysis..\"\n",
    "    }   \n",
    "})"
   ]
  },
  {
   "cell_type": "code",
   "execution_count": 12,
   "id": "3012bb1b",
   "metadata": {},
   "outputs": [
    {
     "name": "stdout",
     "output_type": "stream",
     "text": [
      "\n",
      ">>> User Query: What files can we use for import?\n",
      "<<< Agent Response: I have suggested the following files for the supply chain analysis:\n",
      "\n",
      "- **assemblies.csv**\n",
      "- **parts.csv**\n",
      "- **part_supplier_mapping.csv**\n",
      "- **products.csv**\n",
      "- **suppliers.csv**\n",
      "\n",
      "Could you please review and approve these files, or let me know if there's anything else you'd like to adjust?\n",
      "\n",
      "---\n",
      "\n",
      "Available files:  ['assemblies.csv', 'gothenburg_table_reviews.md', 'parts.csv', 'part_supplier_mapping.csv', 'products.csv', 'suppliers.csv']\n",
      "Suggested files:  ['assemblies.csv', 'parts.csv', 'part_supplier_mapping.csv', 'products.csv', 'suppliers.csv']\n"
     ]
    }
   ],
   "source": [
    "# Run the Initial Conversation\n",
    "\n",
    "# nudge the agent to look for files. in the full system, this will be the natural next step\n",
    "await file_suggestion_caller.call(\"What files can we use for import?\")\n",
    "\n",
    "session_end = await file_suggestion_caller.get_session()\n",
    "\n",
    "print(\"\\n---\\n\")\n",
    "\n",
    "# expect that the agent has listed available files\n",
    "print(\"Available files: \", session_end.state[ALL_AVAILABLE_FILES])\n",
    "\n",
    "# the suggested files should be reasonable looking CSV files\n",
    "print(\"Suggested files: \", session_end.state[SUGGESTED_FILES])"
   ]
  },
  {
   "cell_type": "code",
   "execution_count": 13,
   "id": "11d93d68",
   "metadata": {},
   "outputs": [
    {
     "name": "stdout",
     "output_type": "stream",
     "text": [
      "\n",
      ">>> User Query: Yes, let's do it\n",
      "<<< Agent Response: The files have been approved for import:\n",
      "\n",
      "- **assemblies.csv**\n",
      "- **parts.csv**\n",
      "- **part_supplier_mapping.csv**\n",
      "- **products.csv**\n",
      "- **suppliers.csv**\n",
      "\n",
      "These will be used for the supply chain analysis graph. If you need further assistance, feel free to let me know!\n",
      "\n",
      "---\n",
      "\n",
      "Approved files:  ['assemblies.csv', 'parts.csv', 'part_supplier_mapping.csv', 'products.csv', 'suppliers.csv']\n"
     ]
    }
   ],
   "source": [
    "# Agree with the file suggestions\n",
    "await file_suggestion_caller.call(\"Yes, let's do it\")\n",
    "\n",
    "session_end = await file_suggestion_caller.get_session()\n",
    "\n",
    "print(\"\\n---\\n\")\n",
    "\n",
    "print(\"Approved files: \", session_end.state[APPROVED_FILES])"
   ]
  },
  {
   "cell_type": "markdown",
   "id": "5568842b",
   "metadata": {},
   "source": [
    "## 5.5. Optional - Sequence diagram illustrating the workflow of  \"File Suggestion Agent\"  "
   ]
  },
  {
   "cell_type": "markdown",
   "id": "5c1413b5",
   "metadata": {},
   "source": [
    "<img src=\"../Images/file_suggestions_sequence_diagram.png\" width=\"700\">"
   ]
  }
 ],
 "metadata": {
  "kernelspec": {
   "display_name": "llm_env",
   "language": "python",
   "name": "python3"
  },
  "language_info": {
   "codemirror_mode": {
    "name": "ipython",
    "version": 3
   },
   "file_extension": ".py",
   "mimetype": "text/x-python",
   "name": "python",
   "nbconvert_exporter": "python",
   "pygments_lexer": "ipython3",
   "version": "3.11.9"
  }
 },
 "nbformat": 4,
 "nbformat_minor": 5
}
